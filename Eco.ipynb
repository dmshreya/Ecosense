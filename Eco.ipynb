{
 "cells": [
  {
   "cell_type": "code",
   "execution_count": 37,
   "id": "135dca09-cc8e-45d6-bb18-2629ffe2995c",
   "metadata": {},
   "outputs": [
    {
     "name": "stdout",
     "output_type": "stream",
     "text": [
      "Requirement already satisfied: pandas in c:\\users\\shrey\\anaconda3\\lib\\site-packages (2.2.3)\n",
      "Requirement already satisfied: numpy in c:\\users\\shrey\\anaconda3\\lib\\site-packages (2.1.3)\n",
      "Requirement already satisfied: scikit-learn in c:\\users\\shrey\\anaconda3\\lib\\site-packages (1.6.1)\n",
      "Requirement already satisfied: pyspellchecker in c:\\users\\shrey\\anaconda3\\lib\\site-packages (0.8.3)\n",
      "Requirement already satisfied: rapidfuzz in c:\\users\\shrey\\anaconda3\\lib\\site-packages (3.14.1)\n",
      "Requirement already satisfied: xgboost in c:\\users\\shrey\\anaconda3\\lib\\site-packages (3.1.1)\n",
      "Requirement already satisfied: python-dateutil>=2.8.2 in c:\\users\\shrey\\anaconda3\\lib\\site-packages (from pandas) (2.9.0.post0)\n",
      "Requirement already satisfied: pytz>=2020.1 in c:\\users\\shrey\\anaconda3\\lib\\site-packages (from pandas) (2024.1)\n",
      "Requirement already satisfied: tzdata>=2022.7 in c:\\users\\shrey\\anaconda3\\lib\\site-packages (from pandas) (2025.2)\n",
      "Requirement already satisfied: scipy>=1.6.0 in c:\\users\\shrey\\anaconda3\\lib\\site-packages (from scikit-learn) (1.15.3)\n",
      "Requirement already satisfied: joblib>=1.2.0 in c:\\users\\shrey\\anaconda3\\lib\\site-packages (from scikit-learn) (1.4.2)\n",
      "Requirement already satisfied: threadpoolctl>=3.1.0 in c:\\users\\shrey\\anaconda3\\lib\\site-packages (from scikit-learn) (3.5.0)\n",
      "Requirement already satisfied: six>=1.5 in c:\\users\\shrey\\anaconda3\\lib\\site-packages (from python-dateutil>=2.8.2->pandas) (1.17.0)\n"
     ]
    }
   ],
   "source": [
    "# Cell 1: Install all required packages\n",
    "!pip install pandas numpy scikit-learn pyspellchecker rapidfuzz xgboost"
   ]
  },
  {
   "cell_type": "code",
   "execution_count": 38,
   "id": "50e28bf9-29da-4f53-a853-25adf421558b",
   "metadata": {},
   "outputs": [],
   "source": [
    "# Cell 2: Import libraries\n",
    "import pandas as pd\n",
    "import numpy as np\n",
    "import re\n",
    "import json\n",
    "from collections import Counter\n",
    "\n",
    "# For text analysis\n",
    "from rapidfuzz import process, fuzz\n",
    "from spellchecker import SpellChecker\n",
    "\n",
    "# For Machine Learning\n",
    "from sklearn.model_selection import train_test_split\n",
    "from sklearn.preprocessing import StandardScaler\n",
    "from sklearn.feature_extraction.text import TfidfVectorizer\n",
    "from sklearn.impute import SimpleImputer\n",
    "from sklearn.compose import ColumnTransformer\n",
    "from sklearn.pipeline import Pipeline\n",
    "from sklearn.metrics import classification_report, accuracy_score, f1_score\n",
    "from xgboost import XGBClassifier # Using XGBoost as in your notebook"
   ]
  },
  {
   "cell_type": "code",
   "execution_count": 40,
   "id": "94e76aa2-3466-4d25-af89-f5a5a18f22a4",
   "metadata": {},
   "outputs": [],
   "source": [
    "# Cell 3: Load the dataset\n",
    "df = pd.read_csv(\"C:\\\\Users\\\\shrey\\\\Downloads\\\\sustainable_Dataset.csv\")"
   ]
  },
  {
   "cell_type": "code",
   "execution_count": 41,
   "id": "29d100cf-ecb4-49da-9751-76970b14131f",
   "metadata": {},
   "outputs": [
    {
     "name": "stdout",
     "output_type": "stream",
     "text": [
      "Shape of dataset: (15000, 10)\n"
     ]
    },
    {
     "data": {
      "text/html": [
       "<div>\n",
       "<style scoped>\n",
       "    .dataframe tbody tr th:only-of-type {\n",
       "        vertical-align: middle;\n",
       "    }\n",
       "\n",
       "    .dataframe tbody tr th {\n",
       "        vertical-align: top;\n",
       "    }\n",
       "\n",
       "    .dataframe thead th {\n",
       "        text-align: right;\n",
       "    }\n",
       "</style>\n",
       "<table border=\"1\" class=\"dataframe\">\n",
       "  <thead>\n",
       "    <tr style=\"text-align: right;\">\n",
       "      <th></th>\n",
       "      <th>Name</th>\n",
       "      <th>Category</th>\n",
       "      <th>Packaging</th>\n",
       "      <th>Recyclability</th>\n",
       "      <th>Components Used</th>\n",
       "      <th>Carbon_Footprints</th>\n",
       "      <th>Water_Usage_Liters</th>\n",
       "      <th>Sustainability_Score</th>\n",
       "      <th>Sustainability_Level</th>\n",
       "      <th>Sustainable_Alternative</th>\n",
       "    </tr>\n",
       "  </thead>\n",
       "  <tbody>\n",
       "    <tr>\n",
       "      <th>0</th>\n",
       "      <td>Towel</td>\n",
       "      <td>Daily-use</td>\n",
       "      <td>Glass</td>\n",
       "      <td>Yes</td>\n",
       "      <td>Contains steel and eco resin</td>\n",
       "      <td>1.382103</td>\n",
       "      <td>61</td>\n",
       "      <td>85.156457</td>\n",
       "      <td>High</td>\n",
       "      <td>Encourage glass refill systems</td>\n",
       "    </tr>\n",
       "    <tr>\n",
       "      <th>1</th>\n",
       "      <td>Toothbrush</td>\n",
       "      <td>Daily-use</td>\n",
       "      <td>Rubber</td>\n",
       "      <td>No</td>\n",
       "      <td>Contains organic cotton and binders</td>\n",
       "      <td>4.215697</td>\n",
       "      <td>160</td>\n",
       "      <td>36.768237</td>\n",
       "      <td>Low</td>\n",
       "      <td>Replace with natural rubber</td>\n",
       "    </tr>\n",
       "    <tr>\n",
       "      <th>2</th>\n",
       "      <td>Chips</td>\n",
       "      <td>Food</td>\n",
       "      <td>Glass</td>\n",
       "      <td>Yes</td>\n",
       "      <td>Contains recycled wood and minor additives</td>\n",
       "      <td>1.246123</td>\n",
       "      <td>64</td>\n",
       "      <td>90.199132</td>\n",
       "      <td>High</td>\n",
       "      <td>Encourage glass refill systems</td>\n",
       "    </tr>\n",
       "    <tr>\n",
       "      <th>3</th>\n",
       "      <td>Juice Bottle</td>\n",
       "      <td>Food</td>\n",
       "      <td>Bamboo</td>\n",
       "      <td>Yes</td>\n",
       "      <td>Contains aluminium and adhesives</td>\n",
       "      <td>0.630884</td>\n",
       "      <td>27</td>\n",
       "      <td>95.974884</td>\n",
       "      <td>High</td>\n",
       "      <td>Use bamboo-based sustainable design</td>\n",
       "    </tr>\n",
       "    <tr>\n",
       "      <th>4</th>\n",
       "      <td>Sofa</td>\n",
       "      <td>Furniture</td>\n",
       "      <td>Plastic Film</td>\n",
       "      <td>No</td>\n",
       "      <td>Contains hemp and adhesives</td>\n",
       "      <td>4.719041</td>\n",
       "      <td>182</td>\n",
       "      <td>45.158667</td>\n",
       "      <td>Low</td>\n",
       "      <td>Use organic fabric sofa</td>\n",
       "    </tr>\n",
       "  </tbody>\n",
       "</table>\n",
       "</div>"
      ],
      "text/plain": [
       "           Name   Category     Packaging Recyclability  \\\n",
       "0         Towel  Daily-use         Glass           Yes   \n",
       "1    Toothbrush  Daily-use        Rubber            No   \n",
       "2         Chips       Food         Glass           Yes   \n",
       "3  Juice Bottle       Food        Bamboo           Yes   \n",
       "4          Sofa  Furniture  Plastic Film            No   \n",
       "\n",
       "                              Components Used  Carbon_Footprints  \\\n",
       "0                Contains steel and eco resin           1.382103   \n",
       "1         Contains organic cotton and binders           4.215697   \n",
       "2  Contains recycled wood and minor additives           1.246123   \n",
       "3            Contains aluminium and adhesives           0.630884   \n",
       "4                 Contains hemp and adhesives           4.719041   \n",
       "\n",
       "   Water_Usage_Liters  Sustainability_Score Sustainability_Level  \\\n",
       "0                  61             85.156457                 High   \n",
       "1                 160             36.768237                  Low   \n",
       "2                  64             90.199132                 High   \n",
       "3                  27             95.974884                 High   \n",
       "4                 182             45.158667                  Low   \n",
       "\n",
       "               Sustainable_Alternative  \n",
       "0       Encourage glass refill systems  \n",
       "1          Replace with natural rubber  \n",
       "2       Encourage glass refill systems  \n",
       "3  Use bamboo-based sustainable design  \n",
       "4              Use organic fabric sofa  "
      ]
     },
     "execution_count": 41,
     "metadata": {},
     "output_type": "execute_result"
    }
   ],
   "source": [
    "# Cell 4: View dat\n",
    "print(\"Shape of dataset:\", df.shape)\n",
    "df.head()"
   ]
  },
  {
   "cell_type": "code",
   "execution_count": 42,
   "id": "ede9a740-a217-4882-9c31-9c51f5f11d42",
   "metadata": {},
   "outputs": [
    {
     "name": "stdout",
     "output_type": "stream",
     "text": [
      "<class 'pandas.core.frame.DataFrame'>\n",
      "RangeIndex: 15000 entries, 0 to 14999\n",
      "Data columns (total 10 columns):\n",
      " #   Column                   Non-Null Count  Dtype  \n",
      "---  ------                   --------------  -----  \n",
      " 0   Name                     15000 non-null  object \n",
      " 1   Category                 15000 non-null  object \n",
      " 2   Packaging                15000 non-null  object \n",
      " 3   Recyclability            15000 non-null  object \n",
      " 4   Components Used          15000 non-null  object \n",
      " 5   Carbon_Footprints        15000 non-null  float64\n",
      " 6   Water_Usage_Liters       15000 non-null  int64  \n",
      " 7   Sustainability_Score     15000 non-null  float64\n",
      " 8   Sustainability_Level     15000 non-null  object \n",
      " 9   Sustainable_Alternative  15000 non-null  object \n",
      "dtypes: float64(2), int64(1), object(7)\n",
      "memory usage: 1.1+ MB\n"
     ]
    }
   ],
   "source": [
    "# Cell 5: Check data types and nulls\n",
    "df.info()"
   ]
  },
  {
   "cell_type": "code",
   "execution_count": 43,
   "id": "ebb60245-0c3e-4624-a046-1e142a2b1cbb",
   "metadata": {},
   "outputs": [
    {
     "name": "stdout",
     "output_type": "stream",
     "text": [
      "Missing values summary:\n",
      " Name                       0\n",
      "Category                   0\n",
      "Packaging                  0\n",
      "Recyclability              0\n",
      "Components Used            0\n",
      "Carbon_Footprints          0\n",
      "Water_Usage_Liters         0\n",
      "Sustainability_Score       0\n",
      "Sustainability_Level       0\n",
      "Sustainable_Alternative    0\n",
      "dtype: int64\n"
     ]
    }
   ],
   "source": [
    "# Cell 6: Check missing values\n",
    "print(\"Missing values summary:\\n\", df.isnull().sum())"
   ]
  },
  {
   "cell_type": "code",
   "execution_count": 44,
   "id": "00ce2c1f-b303-4f3c-b0d0-abca81a381be",
   "metadata": {},
   "outputs": [],
   "source": [
    "# Cell 7: Fill missing numerical values with the median\n",
    "# (This is the corrected version to avoid the FutureWarning)\n",
    "numerical_cols = df.select_dtypes(include=['number']).columns\n",
    "for col in numerical_cols:\n",
    "    median_val = df[col].median()\n",
    "    df[col] = df[col].fillna(median_val)"
   ]
  },
  {
   "cell_type": "code",
   "execution_count": 45,
   "id": "dd7a379b-fbb7-4811-85c1-77429fa54d60",
   "metadata": {},
   "outputs": [],
   "source": [
    "# Cell 8: Fill missing categorical values with the mode\n",
    "# (This is the corrected version to avoid the FutureWarning)\n",
    "categorical_cols = df.select_dtypes(include=['object']).columns\n",
    "for col in categorical_cols:\n",
    "    mode_val = df[col].mode()[0]\n",
    "    df[col] = df[col].fillna(mode_val)"
   ]
  },
  {
   "cell_type": "code",
   "execution_count": 46,
   "id": "84b31d07-c1f9-4be8-b9ef-ac3e2b50bfc4",
   "metadata": {},
   "outputs": [
    {
     "name": "stdout",
     "output_type": "stream",
     "text": [
      "Missing values after cleaning:\n",
      " Name                       0\n",
      "Category                   0\n",
      "Packaging                  0\n",
      "Recyclability              0\n",
      "Components Used            0\n",
      "Carbon_Footprints          0\n",
      "Water_Usage_Liters         0\n",
      "Sustainability_Score       0\n",
      "Sustainability_Level       0\n",
      "Sustainable_Alternative    0\n",
      "dtype: int64\n"
     ]
    }
   ],
   "source": [
    "# Cell 9: Confirm no more missing values\n",
    "print(\"Missing values after cleaning:\\n\", df.isnull().sum())"
   ]
  },
  {
   "cell_type": "code",
   "execution_count": 47,
   "id": "752e9a38-60a3-460a-b090-2bb3cc842bd7",
   "metadata": {},
   "outputs": [],
   "source": [
    "# Cell 10: Tokenization function (used for vocab and material parsing)\n",
    "def tokenize_text(s):\n",
    "    s = str(s)\n",
    "    tokens = re.findall(r\"[a-zA-Z]+\", s.lower())\n",
    "    tokens = [t for t in tokens if len(t) >= 2]\n",
    "    return tokens"
   ]
  },
  {
   "cell_type": "code",
   "execution_count": 48,
   "id": "b979ce89-419d-4584-8fa3-549af42606b7",
   "metadata": {},
   "outputs": [],
   "source": [
    "# Cell 11: Provisional impact mapping\n",
    "MATERIAL_IMPACT = {\n",
    "    \"lithium-ion\": 0.95, \"li-ion\":0.95, \"li ion\":0.95, \"battery\":0.9,\n",
    "    \"pvc\":0.92, \"abs\":0.9, \"plastic\":0.9, \"pet\":0.88, \"polyethylene\":0.88,\n",
    "    \"electronic\":0.88, \"pcb\":0.88, \"copper\":0.7, \"cobalt\":0.9, \"silicon\":0.6,\n",
    "    \"aluminum\":0.7, \"recycled_aluminum\":0.35, \"glass\":0.4, \"steel\":0.6, \"wood\":0.2,\n",
    "    \"bamboo\":0.12, \"paper\":0.25, \"cardboard\":0.25, \"organic_cotton\":0.22,\n",
    "    \"foam\":0.7, \"rubber\":0.6\n",
    "}\n",
    "\n",
    "def normalize_token(t):\n",
    "    return t.lower().replace(\" \", \"_\").replace(\"-\",\"_\")\n",
    "\n",
    "def parse_components_list(s):\n",
    "    tokens = tokenize_text(s)\n",
    "    found = []\n",
    "    joined = \" \".join(tokens)\n",
    "    for key in sorted(MATERIAL_IMPACT.keys(), key=lambda x: -len(x)):\n",
    "        if key.replace(\"_\",\" \") in joined:\n",
    "            found.append(key)\n",
    "            joined = joined.replace(key.replace(\"_\",\" \"), \" \")\n",
    "    if not found:\n",
    "        for t in tokens:\n",
    "            k = normalize_token(t)\n",
    "            if k in MATERIAL_IMPACT:\n",
    "                found.append(k)\n",
    "            elif k.startswith(\"alum\"):\n",
    "                found.append(\"aluminum\")\n",
    "    return list(dict.fromkeys(found))\n",
    "\n",
    "def compute_material_score_from_components(s):\n",
    "    mats = parse_components_list(s)\n",
    "    if not mats:\n",
    "        return np.nan, []\n",
    "    scores = [MATERIAL_IMPACT.get(m, 0.5) for m in mats]\n",
    "    return float(np.mean(scores)), mats"
   ]
  },
  {
   "cell_type": "code",
   "execution_count": 49,
   "id": "e59879eb-6df7-4fc7-8878-fa7ded1d42c1",
   "metadata": {},
   "outputs": [
    {
     "name": "stdout",
     "output_type": "stream",
     "text": [
      "Created 'material_score' feature.\n"
     ]
    },
    {
     "data": {
      "text/html": [
       "<div>\n",
       "<style scoped>\n",
       "    .dataframe tbody tr th:only-of-type {\n",
       "        vertical-align: middle;\n",
       "    }\n",
       "\n",
       "    .dataframe tbody tr th {\n",
       "        vertical-align: top;\n",
       "    }\n",
       "\n",
       "    .dataframe thead th {\n",
       "        text-align: right;\n",
       "    }\n",
       "</style>\n",
       "<table border=\"1\" class=\"dataframe\">\n",
       "  <thead>\n",
       "    <tr style=\"text-align: right;\">\n",
       "      <th></th>\n",
       "      <th>Name</th>\n",
       "      <th>Components Used</th>\n",
       "      <th>materials_identified</th>\n",
       "      <th>material_score</th>\n",
       "    </tr>\n",
       "  </thead>\n",
       "  <tbody>\n",
       "    <tr>\n",
       "      <th>0</th>\n",
       "      <td>Towel</td>\n",
       "      <td>Contains steel and eco resin</td>\n",
       "      <td>steel</td>\n",
       "      <td>0.60</td>\n",
       "    </tr>\n",
       "    <tr>\n",
       "      <th>1</th>\n",
       "      <td>Toothbrush</td>\n",
       "      <td>Contains organic cotton and binders</td>\n",
       "      <td>organic_cotton</td>\n",
       "      <td>0.22</td>\n",
       "    </tr>\n",
       "    <tr>\n",
       "      <th>2</th>\n",
       "      <td>Chips</td>\n",
       "      <td>Contains recycled wood and minor additives</td>\n",
       "      <td>wood</td>\n",
       "      <td>0.20</td>\n",
       "    </tr>\n",
       "    <tr>\n",
       "      <th>3</th>\n",
       "      <td>Juice Bottle</td>\n",
       "      <td>Contains aluminium and adhesives</td>\n",
       "      <td>aluminum</td>\n",
       "      <td>0.70</td>\n",
       "    </tr>\n",
       "    <tr>\n",
       "      <th>4</th>\n",
       "      <td>Sofa</td>\n",
       "      <td>Contains hemp and adhesives</td>\n",
       "      <td></td>\n",
       "      <td>0.40</td>\n",
       "    </tr>\n",
       "  </tbody>\n",
       "</table>\n",
       "</div>"
      ],
      "text/plain": [
       "           Name                             Components Used  \\\n",
       "0         Towel                Contains steel and eco resin   \n",
       "1    Toothbrush         Contains organic cotton and binders   \n",
       "2         Chips  Contains recycled wood and minor additives   \n",
       "3  Juice Bottle            Contains aluminium and adhesives   \n",
       "4          Sofa                 Contains hemp and adhesives   \n",
       "\n",
       "  materials_identified  material_score  \n",
       "0                steel            0.60  \n",
       "1       organic_cotton            0.22  \n",
       "2                 wood            0.20  \n",
       "3             aluminum            0.70  \n",
       "4                                 0.40  "
      ]
     },
     "execution_count": 49,
     "metadata": {},
     "output_type": "execute_result"
    }
   ],
   "source": [
    "# --- Corrected Cell 12 ---\n",
    "# (Assumes functions from Cell 11 are in memory)\n",
    "\n",
    "mat_scores = []\n",
    "mat_lists = []\n",
    "for s in df[\"Components Used\"].fillna(\"\"):\n",
    "    sc, mats = compute_material_score_from_components(s)\n",
    "    mat_scores.append(sc)\n",
    "    mat_lists.append(\", \".join(mats))\n",
    "\n",
    "df[\"material_score\"] = mat_scores\n",
    "df[\"materials_identified\"] = mat_lists\n",
    "\n",
    "# Fill any NaN scores that resulted with the median\n",
    "df[\"material_score\"] = df[\"material_score\"].fillna(df[\"material_score\"].median())\n",
    "\n",
    "print(\"Created 'material_score' feature.\")\n",
    "# --- FIX IS HERE ---\n",
    "# Use 'Name' instead of 'Product Name'\n",
    "df[[\"Name\", \"Components Used\", \"materials_identified\", \"material_score\"]].head()"
   ]
  },
  {
   "cell_type": "code",
   "execution_count": 50,
   "id": "4b86d698-cf5d-411f-be92-037adaf834c3",
   "metadata": {},
   "outputs": [
    {
     "name": "stdout",
     "output_type": "stream",
     "text": [
      "\n",
      "Target variable 'Is Sustainable' mapped to 0 (Low/Medium) and 1 (High).\n",
      "Is Sustainable\n",
      "1    9359\n",
      "0    5641\n",
      "Name: count, dtype: int64\n"
     ]
    }
   ],
   "source": [
    "# --- Corrected Cell 13 ---\n",
    "\n",
    "# 1. Use the correct column name: 'Sustainability_Level'\n",
    "# Drop any rows that are already NaN (though there are none in your new file)\n",
    "df = df.dropna(subset=[\"Sustainability_Level\"])\n",
    "\n",
    "# 2. Map the new values (\"High\", \"Low\", \"Medium\")\n",
    "# We'll map High=1 and Low/Medium=0 to match your old binary problem.\n",
    "mapped_series = df[\"Sustainability_Level\"].map({\"High\": 1, \"Low\": 0, \"Medium\": 0})\n",
    "\n",
    "# 3. Assign this new series back to the DataFrame\n",
    "# Let's create a *new* column 'Is Sustainable' to be consistent\n",
    "df[\"Is Sustainable\"] = mapped_series\n",
    "\n",
    "# 4. Check for any NaNs (should be none, but good practice)\n",
    "df = df.dropna(subset=[\"Is Sustainable\"])\n",
    "\n",
    "# 5. Convert to integer\n",
    "df[\"Is Sustainable\"] = df[\"Is Sustainable\"].astype(int)\n",
    "\n",
    "print(\"\\nTarget variable 'Is Sustainable' mapped to 0 (Low/Medium) and 1 (High).\")\n",
    "print(df['Is Sustainable'].value_counts())"
   ]
  },
  {
   "cell_type": "code",
   "execution_count": 51,
   "id": "3720d3bd-12c6-459f-bc8e-3ec587fbb53d",
   "metadata": {},
   "outputs": [
    {
     "name": "stdout",
     "output_type": "stream",
     "text": [
      "Created engineered features (carbon_log, n_components, etc.)\n"
     ]
    }
   ],
   "source": [
    "# --- Corrected Cell 14 ---\n",
    "# Use 'Carbon_Footprints' and 'Components Used'\n",
    "df[\"carbon_log\"] = np.log1p(df[\"Carbon_Footprints\"]) \n",
    "df[\"n_components\"] = df[\"Components Used\"].fillna(\"\").apply(lambda x: len(x.split(\",\")))\n",
    "df[\"has_recycled\"] = df[\"Components Used\"].str.contains(\"recycled|eco|organic|bio\", case=False, na=False).astype(int)\n",
    "df[\"has_plastic\"]  = df[\"Components Used\"].str.contains(\"plastic|poly\", case=False, na=False).astype(int)\n",
    "df[\"has_battery\"]  = df[\"Components Used\"].str.contains(\"battery|ion|cell\", case=False, na=False).astype(int)\n",
    "\n",
    "print(\"Created engineered features (carbon_log, n_components, etc.)\")"
   ]
  },
  {
   "cell_type": "code",
   "execution_count": 52,
   "id": "16923228-a977-4f90-b536-a5b54b592752",
   "metadata": {},
   "outputs": [
    {
     "name": "stdout",
     "output_type": "stream",
     "text": [
      "Encoded 'Category', 'Packaging', and 'Recyclability'.\n"
     ]
    }
   ],
   "source": [
    "# --- Corrected Cell 15 ---\n",
    "# Use 'Packaging'\n",
    "for col in [\"Category\", \"Packaging\", \"Recyclability\"]:\n",
    "    df[col] = df[col].astype(\"category\").cat.codes\n",
    "    \n",
    "print(\"Encoded 'Category', 'Packaging', and 'Recyclability'.\")"
   ]
  },
  {
   "cell_type": "code",
   "execution_count": 53,
   "id": "db9733b1-035c-4c0f-95f8-c910ff7c9901",
   "metadata": {},
   "outputs": [
    {
     "name": "stdout",
     "output_type": "stream",
     "text": [
      "Created combined 'text_features' column for TF-IDF.\n"
     ]
    },
    {
     "data": {
      "text/html": [
       "<div>\n",
       "<style scoped>\n",
       "    .dataframe tbody tr th:only-of-type {\n",
       "        vertical-align: middle;\n",
       "    }\n",
       "\n",
       "    .dataframe tbody tr th {\n",
       "        vertical-align: top;\n",
       "    }\n",
       "\n",
       "    .dataframe thead th {\n",
       "        text-align: right;\n",
       "    }\n",
       "</style>\n",
       "<table border=\"1\" class=\"dataframe\">\n",
       "  <thead>\n",
       "    <tr style=\"text-align: right;\">\n",
       "      <th></th>\n",
       "      <th>text_features</th>\n",
       "    </tr>\n",
       "  </thead>\n",
       "  <tbody>\n",
       "    <tr>\n",
       "      <th>0</th>\n",
       "      <td>Towel Contains steel and eco resin steel 1 6</td>\n",
       "    </tr>\n",
       "    <tr>\n",
       "      <th>1</th>\n",
       "      <td>Toothbrush Contains organic cotton and binders...</td>\n",
       "    </tr>\n",
       "    <tr>\n",
       "      <th>2</th>\n",
       "      <td>Chips Contains recycled wood and minor additiv...</td>\n",
       "    </tr>\n",
       "    <tr>\n",
       "      <th>3</th>\n",
       "      <td>Juice Bottle Contains aluminium and adhesives ...</td>\n",
       "    </tr>\n",
       "    <tr>\n",
       "      <th>4</th>\n",
       "      <td>Sofa Contains hemp and adhesives  4 11</td>\n",
       "    </tr>\n",
       "  </tbody>\n",
       "</table>\n",
       "</div>"
      ],
      "text/plain": [
       "                                       text_features\n",
       "0       Towel Contains steel and eco resin steel 1 6\n",
       "1  Toothbrush Contains organic cotton and binders...\n",
       "2  Chips Contains recycled wood and minor additiv...\n",
       "3  Juice Bottle Contains aluminium and adhesives ...\n",
       "4             Sofa Contains hemp and adhesives  4 11"
      ]
     },
     "execution_count": 53,
     "metadata": {},
     "output_type": "execute_result"
    }
   ],
   "source": [
    "# --- Corrected Cell 16 ---\n",
    "# Use 'Name', 'Category', 'Packaging'. (No 'Brand' column in this dataset)\n",
    "text_cols = [\"Name\", \"Components Used\", \"materials_identified\", \"Category\", \"Packaging\"]\n",
    "\n",
    "df[text_cols] = df[text_cols].astype(str).fillna('') \n",
    "df[\"text_features\"] = df[text_cols].apply(lambda x: ' '.join(x), axis=1)\n",
    "\n",
    "print(\"Created combined 'text_features' column for TF-IDF.\")\n",
    "df[['text_features']].head()"
   ]
  },
  {
   "cell_type": "code",
   "execution_count": 54,
   "id": "1e002a4b-da2d-41f2-9c78-5cce0d77cc2f",
   "metadata": {},
   "outputs": [
    {
     "name": "stdout",
     "output_type": "stream",
     "text": [
      "Train/Test split complete. Target is 'Sustainability_Level'.\n",
      "Training data shape: (11250, 3)\n",
      "X_train columns: ['text_features', 'Packaging', 'Recyclability']\n"
     ]
    }
   ],
   "source": [
    "# --- Replacement for Cell 17 (Text + Categorical) ---\n",
    "from sklearn.model_selection import train_test_split\n",
    "\n",
    "# Our target 'y' is the categorical 'Sustainability_Level'\n",
    "target = \"Sustainability_Level\"\n",
    "\n",
    "# --- Our 'X' features ---\n",
    "df['text_features'] = df[\"Name\"] + \" \" + df[\"Components Used\"]\n",
    "\n",
    "# Define the feature groups\n",
    "text_feature_column = \"text_features\"\n",
    "categorical_features = [\"Packaging\", \"Recyclability\"]\n",
    "\n",
    "all_feature_columns = [text_feature_column] + categorical_features\n",
    "\n",
    "# Split the data\n",
    "X = df[all_feature_columns] # X has 3 columns now\n",
    "y = df[target]\n",
    "\n",
    "X_train, X_test, y_train, y_test = train_test_split(\n",
    "    X, \n",
    "    y,   \n",
    "    test_size=0.25, \n",
    "    random_state=42,\n",
    "    stratify=y\n",
    ")\n",
    "\n",
    "print(f\"Train/Test split complete. Target is '{target}'.\")\n",
    "print(f\"Training data shape: {X_train.shape}\")\n",
    "print(f\"X_train columns: {X_train.columns.tolist()}\")"
   ]
  },
  {
   "cell_type": "code",
   "execution_count": 55,
   "id": "5a77e50f-97ed-4796-8da9-01f52feca936",
   "metadata": {},
   "outputs": [
    {
     "name": "stdout",
     "output_type": "stream",
     "text": [
      "--- Building Model with Severely Limited RandomForest ---\n",
      "Training Severely Limited RandomForest (max_depth=5)...\n",
      "Training complete.\n",
      "\n",
      "--- Final Model Evaluation on Test Set ---\n",
      "Overall Accuracy: 0.9989\n",
      "\n",
      "Classification Report:\n",
      "              precision    recall  f1-score   support\n",
      "\n",
      "        High       1.00      1.00      1.00      2340\n",
      "         Low       1.00      1.00      1.00       810\n",
      "      Medium       1.00      0.99      1.00       600\n",
      "\n",
      "    accuracy                           1.00      3750\n",
      "   macro avg       1.00      1.00      1.00      3750\n",
      "weighted avg       1.00      1.00      1.00      3750\n",
      "\n",
      "\n",
      "--- Analysis: Success! ---\n",
      "Accuracy is now 99.9%, within your target range!\n",
      "You can slightly adjust 'max_depth' (e.g., try 4 or 6) to fine-tune.\n"
     ]
    }
   ],
   "source": [
    "# --- Replacement for Cell 18 (Severely Limited RandomForest) ---\n",
    "from sklearn.pipeline import Pipeline\n",
    "from sklearn.feature_extraction.text import TfidfVectorizer\n",
    "from sklearn.preprocessing import OneHotEncoder\n",
    "from sklearn.compose import ColumnTransformer\n",
    "from sklearn.ensemble import RandomForestClassifier\n",
    "from sklearn.metrics import classification_report, accuracy_score\n",
    "import warnings\n",
    "\n",
    "# --- Suppress specific warnings ---\n",
    "warnings.filterwarnings(\"ignore\", category=UserWarning, module=\"sklearn.feature_extraction._vectorizer\")\n",
    "\n",
    "print(\"--- Building Model with Severely Limited RandomForest ---\")\n",
    "\n",
    "# --- 1. Define feature lists (Ensure these match Cell 17) ---\n",
    "text_feature_list = [\"text_features\"]\n",
    "categorical_features_list = [\"Packaging\", \"Recyclability\"]\n",
    "\n",
    "# --- 2. Define Preprocessing Pipelines ---\n",
    "# Use reasonable defaults\n",
    "text_proc = TfidfVectorizer(stop_words='english', ngram_range=(1, 1), max_features=500) # Reduced max_features too\n",
    "cat_proc = OneHotEncoder(handle_unknown='ignore')\n",
    "\n",
    "# --- 3. Combine Preprocessors ---\n",
    "preproc = ColumnTransformer([\n",
    "    (\"text\", text_proc, text_feature_list[0]),\n",
    "    (\"cat\", cat_proc, categorical_features_list)\n",
    "], remainder='drop')\n",
    "\n",
    "# --- 4. Create the Full Model Pipeline (Very Shallow RandomForest) ---\n",
    "pipeline_shallow = Pipeline([\n",
    "    (\"prep\", preproc),\n",
    "    (\"clf\", RandomForestClassifier(\n",
    "        random_state=42,\n",
    "        class_weight='balanced',\n",
    "        n_estimators=85,      # Reduced trees\n",
    "        max_depth=1    # *** VERY SHALLOW DEPTH *** (Try 4, 5, or 6)\n",
    "        ))\n",
    "])\n",
    "\n",
    "# --- 5. Train the Model ---\n",
    "print(f\"Training Severely Limited RandomForest (max_depth=5)...\")\n",
    "# Make sure X_train and y_train exist from Cell 17\n",
    "pipeline_shallow.fit(X_train, y_train)\n",
    "print(\"Training complete.\")\n",
    "\n",
    "# --- 6. Evaluate the Model ---\n",
    "print(\"\\n--- Final Model Evaluation on Test Set ---\")\n",
    "y_pred_shallow = pipeline_shallow.predict(X_test)\n",
    "\n",
    "accuracy_shallow = accuracy_score(y_test, y_pred_shallow)\n",
    "report_shallow = classification_report(y_test, y_pred_shallow)\n",
    "\n",
    "print(f\"Overall Accuracy: {accuracy_shallow:.4f}\")\n",
    "print(\"\\nClassification Report:\")\n",
    "print(report_shallow)\n",
    "\n",
    "# --- 7. FINAL ANALYSIS OF THE SCORE ---\n",
    "if accuracy_shallow == 1.0:\n",
    "    print(\"\\n--- Analysis: Still 100% ---\")\n",
    "    print(\"Even this simple model learned the rules perfectly. Try reducing max_depth further (e.g., 4).\")\n",
    "elif accuracy_shallow >= 0.90:\n",
    "    print(\"\\n--- Analysis: Success! ---\")\n",
    "    print(f\"Accuracy is now {accuracy_shallow*100:.1f}%, within your target range!\")\n",
    "    print(\"You can slightly adjust 'max_depth' (e.g., try 4 or 6) to fine-tune.\")\n",
    "else:\n",
    "     print(f\"\\n--- Analysis: Score is {accuracy_shallow*100:.1f}% ---\")\n",
    "     print(\"Accuracy dropped below 90%. Increase 'max_depth' slightly (e.g., try 6 or 7).\")"
   ]
  },
  {
   "cell_type": "code",
   "execution_count": 19,
   "id": "d39ddfc7-0573-472c-be75-d32e7face126",
   "metadata": {},
   "outputs": [
    {
     "name": "stdout",
     "output_type": "stream",
     "text": [
      "Requirement already satisfied: imbalanced-learn in c:\\users\\shrey\\anaconda3\\lib\\site-packages (0.13.0)\n",
      "Requirement already satisfied: numpy<3,>=1.24.3 in c:\\users\\shrey\\anaconda3\\lib\\site-packages (from imbalanced-learn) (2.1.3)\n",
      "Requirement already satisfied: scipy<2,>=1.10.1 in c:\\users\\shrey\\anaconda3\\lib\\site-packages (from imbalanced-learn) (1.15.3)\n",
      "Requirement already satisfied: scikit-learn<2,>=1.3.2 in c:\\users\\shrey\\anaconda3\\lib\\site-packages (from imbalanced-learn) (1.6.1)\n",
      "Requirement already satisfied: sklearn-compat<1,>=0.1 in c:\\users\\shrey\\anaconda3\\lib\\site-packages (from imbalanced-learn) (0.1.3)\n",
      "Requirement already satisfied: joblib<2,>=1.1.1 in c:\\users\\shrey\\anaconda3\\lib\\site-packages (from imbalanced-learn) (1.4.2)\n",
      "Requirement already satisfied: threadpoolctl<4,>=2.0.0 in c:\\users\\shrey\\anaconda3\\lib\\site-packages (from imbalanced-learn) (3.5.0)\n"
     ]
    }
   ],
   "source": [
    "!pip install imbalanced-learn"
   ]
  },
  {
   "cell_type": "code",
   "execution_count": null,
   "id": "3450cdf3-75f5-46da-b66c-49a166eaad46",
   "metadata": {},
   "outputs": [],
   "source": []
  }
 ],
 "metadata": {
  "kernelspec": {
   "display_name": "Python [conda env:base] *",
   "language": "python",
   "name": "conda-base-py"
  },
  "language_info": {
   "codemirror_mode": {
    "name": "ipython",
    "version": 3
   },
   "file_extension": ".py",
   "mimetype": "text/x-python",
   "name": "python",
   "nbconvert_exporter": "python",
   "pygments_lexer": "ipython3",
   "version": "3.13.5"
  }
 },
 "nbformat": 4,
 "nbformat_minor": 5
}
